{
 "cells": [
  {
   "cell_type": "code",
   "execution_count": 1,
   "metadata": {},
   "outputs": [],
   "source": [
    "#1.1 Write a Python Program(with class concepts) to find the area of the triangle using the below\n",
    "#formula.area = (s*(s-a)*(s-b)*(s-c)) ** 0.5\n",
    "\n",
    "class area_triangle:\n",
    "    def __init__(self, sidea,sideb,sidec ):\n",
    "        self.sidea = sidea\n",
    "        self.sideb = sideb\n",
    "        self.sidec = sidec\n",
    "    \n",
    "class calc_area(area_triangle):\n",
    "    def __init__(self,sidea,sideb,sidec):\n",
    "        super().__init__(sidea,sideb,sidec)\n",
    "        \n",
    "    def get_area(self):\n",
    "        s=(self.sidea+self.sideb+self.sidec)/2\n",
    "        area=(s*(s-self.sidea)*(s-self.sideb)*(s-self.sidec))**0.5\n",
    "        return area\n",
    "    "
   ]
  },
  {
   "cell_type": "code",
   "execution_count": 2,
   "metadata": {},
   "outputs": [
    {
     "name": "stdout",
     "output_type": "stream",
     "text": [
      "Enter the First side of a Triangle:4\n",
      "Enter the Second side of a Triangle:6\n",
      "Enter the Third side of a Triangle:8\n",
      "area : 11.61895003862225\n"
     ]
    }
   ],
   "source": [
    "a = float(input('Enter the First side of a Triangle:'))\n",
    "b = float(input('Enter the Second side of a Triangle:'))\n",
    "c = float(input('Enter the Third side of a Triangle:'))\n",
    "\n",
    "area_tri=calc_area(a,b,c)\n",
    "print(\"area :\",(area_tri.get_area()))\n"
   ]
  },
  {
   "cell_type": "code",
   "execution_count": 3,
   "metadata": {},
   "outputs": [
    {
     "name": "stdout",
     "output_type": "stream",
     "text": [
      "['Python', 'Program', 'concepts', 'triangle']\n"
     ]
    }
   ],
   "source": [
    "#1.2 Write a function filter_long_words() that takes a list of words and an integer n and returns\n",
    "#the list of words that are longer than n.\n",
    "\n",
    "def filter_long_words(s,n):\n",
    "    lst1=[]\n",
    "    [lst1.append(i) for i in s.split() if len(i) > n]\n",
    "    return lst1\n",
    "\n",
    "s=\"Write a Python Program with class concepts to find the area of the triangle\"\n",
    "print(filter_long_words(s,5))"
   ]
  },
  {
   "cell_type": "code",
   "execution_count": 4,
   "metadata": {},
   "outputs": [
    {
     "name": "stdout",
     "output_type": "stream",
     "text": [
      "['Blue', 'Red', 'Purple'] Mapped list to int:  [4, 3, 6]\n"
     ]
    }
   ],
   "source": [
    "#2.1 Write a Python program using function concept that maps list of words into a list of integers\n",
    "#representing the lengths of the corresponding words.\n",
    "\n",
    "def map_str_int(lst):\n",
    "    [lst1.append(len(i))for i in lst]        \n",
    "    return lst1\n",
    "\n",
    "lst1=[]\n",
    "lst=[\"Blue\",\"Red\",'Purple']\n",
    "lst1=map_str_int(lst)\n",
    "print(lst, \"Mapped list to int: \", lst1)"
   ]
  },
  {
   "cell_type": "code",
   "execution_count": 5,
   "metadata": {},
   "outputs": [
    {
     "name": "stdout",
     "output_type": "stream",
     "text": [
      "False\n"
     ]
    }
   ],
   "source": [
    "#2.2 Write a Python function which takes a character(i.e. a string of length 1) and returns True if it is a vowel, \n",
    "# False otherwise.\n",
    "def is_vovel(s):\n",
    "    if s.lower() in (\"a\",\"e\",\"i\",\"o\",\"u\"):\n",
    "        return True\n",
    "    else:\n",
    "        return False\n",
    "\n",
    "print(is_vovel(\"v\"))"
   ]
  }
 ],
 "metadata": {
  "kernelspec": {
   "display_name": "Python 3",
   "language": "python",
   "name": "python3"
  },
  "language_info": {
   "codemirror_mode": {
    "name": "ipython",
    "version": 3
   },
   "file_extension": ".py",
   "mimetype": "text/x-python",
   "name": "python",
   "nbconvert_exporter": "python",
   "pygments_lexer": "ipython3",
   "version": "3.7.6"
  }
 },
 "nbformat": 4,
 "nbformat_minor": 4
}
